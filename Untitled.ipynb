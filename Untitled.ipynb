{
 "cells": [
  {
   "cell_type": "code",
   "execution_count": 1,
   "id": "0dd98b38",
   "metadata": {},
   "outputs": [
    {
     "name": "stdout",
     "output_type": "stream",
     "text": [
      "setup complete\n"
     ]
    }
   ],
   "source": [
    "import numpy as np\n",
    "import matplotlib.pyplot as plt\n",
    "import pandas as pd \n",
    "import csv \n",
    "\n",
    "\n",
    "\n",
    "print(\"setup complete\")"
   ]
  },
  {
   "cell_type": "code",
   "execution_count": 2,
   "id": "3df7b9fc",
   "metadata": {
    "scrolled": false
   },
   "outputs": [
    {
     "data": {
      "text/html": [
       "<div>\n",
       "<style scoped>\n",
       "    .dataframe tbody tr th:only-of-type {\n",
       "        vertical-align: middle;\n",
       "    }\n",
       "\n",
       "    .dataframe tbody tr th {\n",
       "        vertical-align: top;\n",
       "    }\n",
       "\n",
       "    .dataframe thead th {\n",
       "        text-align: right;\n",
       "    }\n",
       "</style>\n",
       "<table border=\"1\" class=\"dataframe\">\n",
       "  <thead>\n",
       "    <tr style=\"text-align: right;\">\n",
       "      <th></th>\n",
       "      <th>Species</th>\n",
       "      <th>Weight</th>\n",
       "      <th>Length1</th>\n",
       "      <th>Length2</th>\n",
       "      <th>Length3</th>\n",
       "      <th>Height</th>\n",
       "      <th>Width</th>\n",
       "    </tr>\n",
       "  </thead>\n",
       "  <tbody>\n",
       "    <tr>\n",
       "      <th>0</th>\n",
       "      <td>Pike</td>\n",
       "      <td>950.0</td>\n",
       "      <td>48.3</td>\n",
       "      <td>51.7</td>\n",
       "      <td>55.1</td>\n",
       "      <td>8.9262</td>\n",
       "      <td>6.1712</td>\n",
       "    </tr>\n",
       "    <tr>\n",
       "      <th>1</th>\n",
       "      <td>Roach</td>\n",
       "      <td>69.0</td>\n",
       "      <td>16.5</td>\n",
       "      <td>18.2</td>\n",
       "      <td>20.3</td>\n",
       "      <td>5.2983</td>\n",
       "      <td>2.8217</td>\n",
       "    </tr>\n",
       "    <tr>\n",
       "      <th>2</th>\n",
       "      <td>Roach</td>\n",
       "      <td>120.0</td>\n",
       "      <td>19.4</td>\n",
       "      <td>21.0</td>\n",
       "      <td>23.7</td>\n",
       "      <td>6.1146</td>\n",
       "      <td>3.2943</td>\n",
       "    </tr>\n",
       "    <tr>\n",
       "      <th>3</th>\n",
       "      <td>Smelt</td>\n",
       "      <td>8.7</td>\n",
       "      <td>10.8</td>\n",
       "      <td>11.3</td>\n",
       "      <td>12.6</td>\n",
       "      <td>1.9782</td>\n",
       "      <td>1.2852</td>\n",
       "    </tr>\n",
       "    <tr>\n",
       "      <th>4</th>\n",
       "      <td>Parkki</td>\n",
       "      <td>120.0</td>\n",
       "      <td>17.5</td>\n",
       "      <td>19.0</td>\n",
       "      <td>21.3</td>\n",
       "      <td>8.3922</td>\n",
       "      <td>2.9181</td>\n",
       "    </tr>\n",
       "    <tr>\n",
       "      <th>5</th>\n",
       "      <td>Perch</td>\n",
       "      <td>650.0</td>\n",
       "      <td>36.5</td>\n",
       "      <td>39.0</td>\n",
       "      <td>41.4</td>\n",
       "      <td>11.1366</td>\n",
       "      <td>6.0030</td>\n",
       "    </tr>\n",
       "    <tr>\n",
       "      <th>6</th>\n",
       "      <td>Bream</td>\n",
       "      <td>363.0</td>\n",
       "      <td>26.3</td>\n",
       "      <td>29.0</td>\n",
       "      <td>33.5</td>\n",
       "      <td>12.7300</td>\n",
       "      <td>4.4555</td>\n",
       "    </tr>\n",
       "    <tr>\n",
       "      <th>7</th>\n",
       "      <td>Bream</td>\n",
       "      <td>975.0</td>\n",
       "      <td>37.4</td>\n",
       "      <td>41.0</td>\n",
       "      <td>45.9</td>\n",
       "      <td>18.6354</td>\n",
       "      <td>6.7473</td>\n",
       "    </tr>\n",
       "    <tr>\n",
       "      <th>8</th>\n",
       "      <td>Bream</td>\n",
       "      <td>600.0</td>\n",
       "      <td>29.4</td>\n",
       "      <td>32.0</td>\n",
       "      <td>37.2</td>\n",
       "      <td>15.4380</td>\n",
       "      <td>5.5800</td>\n",
       "    </tr>\n",
       "    <tr>\n",
       "      <th>9</th>\n",
       "      <td>Perch</td>\n",
       "      <td>32.0</td>\n",
       "      <td>12.5</td>\n",
       "      <td>13.7</td>\n",
       "      <td>14.7</td>\n",
       "      <td>3.5280</td>\n",
       "      <td>1.9992</td>\n",
       "    </tr>\n",
       "  </tbody>\n",
       "</table>\n",
       "</div>"
      ],
      "text/plain": [
       "  Species  Weight  Length1  Length2  Length3   Height   Width\n",
       "0    Pike   950.0     48.3     51.7     55.1   8.9262  6.1712\n",
       "1   Roach    69.0     16.5     18.2     20.3   5.2983  2.8217\n",
       "2   Roach   120.0     19.4     21.0     23.7   6.1146  3.2943\n",
       "3   Smelt     8.7     10.8     11.3     12.6   1.9782  1.2852\n",
       "4  Parkki   120.0     17.5     19.0     21.3   8.3922  2.9181\n",
       "5   Perch   650.0     36.5     39.0     41.4  11.1366  6.0030\n",
       "6   Bream   363.0     26.3     29.0     33.5  12.7300  4.4555\n",
       "7   Bream   975.0     37.4     41.0     45.9  18.6354  6.7473\n",
       "8   Bream   600.0     29.4     32.0     37.2  15.4380  5.5800\n",
       "9   Perch    32.0     12.5     13.7     14.7   3.5280  1.9992"
      ]
     },
     "execution_count": 2,
     "metadata": {},
     "output_type": "execute_result"
    }
   ],
   "source": [
    "fdf=pd.read_csv('sample.csv')\n",
    "\n",
    "fdf.head(10)\n",
    "\n",
    "## weight? "
   ]
  },
  {
   "cell_type": "code",
   "execution_count": 3,
   "id": "cca209a9",
   "metadata": {},
   "outputs": [
    {
     "data": {
      "text/plain": [
       "<matplotlib.collections.PathCollection at 0x1cc11ff3f40>"
      ]
     },
     "execution_count": 3,
     "metadata": {},
     "output_type": "execute_result"
    },
    {
     "data": {
      "image/png": "[encoded data removed]",
      "text/plain": [
       "<Figure size 432x288 with 1 Axes>"
      ]
     },
     "metadata": {
      "needs_background": "light"
     },
     "output_type": "display_data"
    }
   ],
   "source": [
    "%matplotlib inline \n",
    "plt.title(\"5 Different Fishes\")\n",
    "plt.xlabel('height')\n",
    "plt.ylabel('weight')\n",
    "plt.scatter(fdf.Height, fdf.Weight, color='green', marker='*')"
   ]
  },
  {
   "cell_type": "code",
   "execution_count": 4,
   "id": "c4f78d98",
   "metadata": {},
   "outputs": [
    {
     "name": "stdout",
     "output_type": "stream",
     "text": [
      "importing complete\n"
     ]
    }
   ],
   "source": [
    "from sklearn import linear_model\n",
    "\n",
    "print(\"importing complete\")"
   ]
  },
  {
   "cell_type": "code",
   "execution_count": 5,
   "id": "75f11920",
   "metadata": {},
   "outputs": [
    {
     "name": "stdout",
     "output_type": "stream",
     "text": [
      "modeling complete\n"
     ]
    }
   ],
   "source": [
    "reg=linear_model.LinearRegression()\n",
    "reg.fit(fdf[['Height']], fdf.Weight)\n",
    "print(\"modeling complete\")"
   ]
  },
  {
   "cell_type": "code",
   "execution_count": 6,
   "id": "5e627503",
   "metadata": {
    "scrolled": true
   },
   "outputs": [
    {
     "data": {
      "text/plain": [
       "array([54.91611496])"
      ]
     },
     "execution_count": 6,
     "metadata": {},
     "output_type": "execute_result"
    }
   ],
   "source": [
    "reg.coef_"
   ]
  },
  {
   "cell_type": "code",
   "execution_count": 7,
   "id": "c5dcb576",
   "metadata": {},
   "outputs": [
    {
     "data": {
      "text/plain": [
       "-121.77563261975746"
      ]
     },
     "execution_count": 7,
     "metadata": {},
     "output_type": "execute_result"
    }
   ],
   "source": [
    "reg.intercept_"
   ]
  },
  {
   "cell_type": "code",
   "execution_count": 8,
   "id": "a4407157",
   "metadata": {},
   "outputs": [
    {
     "name": "stdout",
     "output_type": "stream",
     "text": [
      "[1273.6977646]\n"
     ]
    }
   ],
   "source": [
    "m=reg.coef_\n",
    "b=reg.intercept_\n",
    "datax_1=25.411\n",
    "ypred=m*datax_1+b\n",
    "print(ypred)"
   ]
  },
  {
   "cell_type": "code",
   "execution_count": 9,
   "id": "39cbf159",
   "metadata": {},
   "outputs": [
    {
     "data": {
      "text/html": [
       "<div>\n",
       "<style scoped>\n",
       "    .dataframe tbody tr th:only-of-type {\n",
       "        vertical-align: middle;\n",
       "    }\n",
       "\n",
       "    .dataframe tbody tr th {\n",
       "        vertical-align: top;\n",
       "    }\n",
       "\n",
       "    .dataframe thead th {\n",
       "        text-align: right;\n",
       "    }\n",
       "</style>\n",
       "<table border=\"1\" class=\"dataframe\">\n",
       "  <thead>\n",
       "    <tr style=\"text-align: right;\">\n",
       "      <th></th>\n",
       "      <th>Height</th>\n",
       "    </tr>\n",
       "  </thead>\n",
       "  <tbody>\n",
       "    <tr>\n",
       "      <th>0</th>\n",
       "      <td>14.8604</td>\n",
       "    </tr>\n",
       "    <tr>\n",
       "      <th>1</th>\n",
       "      <td>12.4888</td>\n",
       "    </tr>\n",
       "    <tr>\n",
       "      <th>2</th>\n",
       "      <td>5.9532</td>\n",
       "    </tr>\n",
       "    <tr>\n",
       "      <th>3</th>\n",
       "      <td>6.3750</td>\n",
       "    </tr>\n",
       "    <tr>\n",
       "      <th>4</th>\n",
       "      <td>8.3230</td>\n",
       "    </tr>\n",
       "    <tr>\n",
       "      <th>5</th>\n",
       "      <td>2.2044</td>\n",
       "    </tr>\n",
       "    <tr>\n",
       "      <th>6</th>\n",
       "      <td>17.6235</td>\n",
       "    </tr>\n",
       "    <tr>\n",
       "      <th>7</th>\n",
       "      <td>12.6700</td>\n",
       "    </tr>\n",
       "    <tr>\n",
       "      <th>8</th>\n",
       "      <td>6.5772</td>\n",
       "    </tr>\n",
       "    <tr>\n",
       "      <th>9</th>\n",
       "      <td>14.2628</td>\n",
       "    </tr>\n",
       "  </tbody>\n",
       "</table>\n",
       "</div>"
      ],
      "text/plain": [
       "    Height\n",
       "0  14.8604\n",
       "1  12.4888\n",
       "2   5.9532\n",
       "3   6.3750\n",
       "4   8.3230\n",
       "5   2.2044\n",
       "6  17.6235\n",
       "7  12.6700\n",
       "8   6.5772\n",
       "9  14.2628"
      ]
     },
     "execution_count": 9,
     "metadata": {},
     "output_type": "execute_result"
    }
   ],
   "source": [
    "tdf=pd.read_csv('testing.csv')\n",
    "\n",
    "tdf.head(10)"
   ]
  },
  {
   "cell_type": "code",
   "execution_count": 10,
   "id": "d9eb92b8",
   "metadata": {
    "scrolled": true
   },
   "outputs": [
    {
     "data": {
      "text/html": [
       "<div>\n",
       "<style scoped>\n",
       "    .dataframe tbody tr th:only-of-type {\n",
       "        vertical-align: middle;\n",
       "    }\n",
       "\n",
       "    .dataframe tbody tr th {\n",
       "        vertical-align: top;\n",
       "    }\n",
       "\n",
       "    .dataframe thead th {\n",
       "        text-align: right;\n",
       "    }\n",
       "</style>\n",
       "<table border=\"1\" class=\"dataframe\">\n",
       "  <thead>\n",
       "    <tr style=\"text-align: right;\">\n",
       "      <th></th>\n",
       "      <th>Height</th>\n",
       "    </tr>\n",
       "  </thead>\n",
       "  <tbody>\n",
       "    <tr>\n",
       "      <th>0</th>\n",
       "      <td>14.8604</td>\n",
       "    </tr>\n",
       "    <tr>\n",
       "      <th>1</th>\n",
       "      <td>12.4888</td>\n",
       "    </tr>\n",
       "    <tr>\n",
       "      <th>2</th>\n",
       "      <td>5.9532</td>\n",
       "    </tr>\n",
       "    <tr>\n",
       "      <th>3</th>\n",
       "      <td>6.3750</td>\n",
       "    </tr>\n",
       "    <tr>\n",
       "      <th>4</th>\n",
       "      <td>8.3230</td>\n",
       "    </tr>\n",
       "    <tr>\n",
       "      <th>5</th>\n",
       "      <td>2.2044</td>\n",
       "    </tr>\n",
       "    <tr>\n",
       "      <th>6</th>\n",
       "      <td>17.6235</td>\n",
       "    </tr>\n",
       "    <tr>\n",
       "      <th>7</th>\n",
       "      <td>12.6700</td>\n",
       "    </tr>\n",
       "    <tr>\n",
       "      <th>8</th>\n",
       "      <td>6.5772</td>\n",
       "    </tr>\n",
       "    <tr>\n",
       "      <th>9</th>\n",
       "      <td>14.2628</td>\n",
       "    </tr>\n",
       "    <tr>\n",
       "      <th>10</th>\n",
       "      <td>5.6400</td>\n",
       "    </tr>\n",
       "    <tr>\n",
       "      <th>11</th>\n",
       "      <td>11.3680</td>\n",
       "    </tr>\n",
       "    <tr>\n",
       "      <th>12</th>\n",
       "      <td>5.2224</td>\n",
       "    </tr>\n",
       "    <tr>\n",
       "      <th>13</th>\n",
       "      <td>7.4052</td>\n",
       "    </tr>\n",
       "    <tr>\n",
       "      <th>14</th>\n",
       "      <td>3.8240</td>\n",
       "    </tr>\n",
       "    <tr>\n",
       "      <th>15</th>\n",
       "      <td>6.5500</td>\n",
       "    </tr>\n",
       "    <tr>\n",
       "      <th>16</th>\n",
       "      <td>13.7592</td>\n",
       "    </tr>\n",
       "    <tr>\n",
       "      <th>17</th>\n",
       "      <td>15.6330</td>\n",
       "    </tr>\n",
       "    <tr>\n",
       "      <th>18</th>\n",
       "      <td>14.9380</td>\n",
       "    </tr>\n",
       "    <tr>\n",
       "      <th>19</th>\n",
       "      <td>6.3840</td>\n",
       "    </tr>\n",
       "    <tr>\n",
       "      <th>20</th>\n",
       "      <td>2.0832</td>\n",
       "    </tr>\n",
       "    <tr>\n",
       "      <th>21</th>\n",
       "      <td>5.2185</td>\n",
       "    </tr>\n",
       "    <tr>\n",
       "      <th>22</th>\n",
       "      <td>4.1472</td>\n",
       "    </tr>\n",
       "    <tr>\n",
       "      <th>23</th>\n",
       "      <td>7.1680</td>\n",
       "    </tr>\n",
       "    <tr>\n",
       "      <th>24</th>\n",
       "      <td>8.1454</td>\n",
       "    </tr>\n",
       "    <tr>\n",
       "      <th>25</th>\n",
       "      <td>8.5680</td>\n",
       "    </tr>\n",
       "    <tr>\n",
       "      <th>26</th>\n",
       "      <td>9.6000</td>\n",
       "    </tr>\n",
       "    <tr>\n",
       "      <th>27</th>\n",
       "      <td>2.1120</td>\n",
       "    </tr>\n",
       "    <tr>\n",
       "      <th>28</th>\n",
       "      <td>7.2800</td>\n",
       "    </tr>\n",
       "    <tr>\n",
       "      <th>29</th>\n",
       "      <td>12.4440</td>\n",
       "    </tr>\n",
       "    <tr>\n",
       "      <th>30</th>\n",
       "      <td>15.5227</td>\n",
       "    </tr>\n",
       "    <tr>\n",
       "      <th>31</th>\n",
       "      <td>6.9153</td>\n",
       "    </tr>\n",
       "    <tr>\n",
       "      <th>32</th>\n",
       "      <td>6.4752</td>\n",
       "    </tr>\n",
       "    <tr>\n",
       "      <th>33</th>\n",
       "      <td>8.5376</td>\n",
       "    </tr>\n",
       "    <tr>\n",
       "      <th>34</th>\n",
       "      <td>12.8002</td>\n",
       "    </tr>\n",
       "    <tr>\n",
       "      <th>35</th>\n",
       "      <td>5.7078</td>\n",
       "    </tr>\n",
       "    <tr>\n",
       "      <th>36</th>\n",
       "      <td>14.9544</td>\n",
       "    </tr>\n",
       "    <tr>\n",
       "      <th>37</th>\n",
       "      <td>12.3808</td>\n",
       "    </tr>\n",
       "    <tr>\n",
       "      <th>38</th>\n",
       "      <td>10.0300</td>\n",
       "    </tr>\n",
       "    <tr>\n",
       "      <th>39</th>\n",
       "      <td>5.8045</td>\n",
       "    </tr>\n",
       "    <tr>\n",
       "      <th>40</th>\n",
       "      <td>9.3960</td>\n",
       "    </tr>\n",
       "  </tbody>\n",
       "</table>\n",
       "</div>"
      ],
      "text/plain": [
       "     Height\n",
       "0   14.8604\n",
       "1   12.4888\n",
       "2    5.9532\n",
       "3    6.3750\n",
       "4    8.3230\n",
       "5    2.2044\n",
       "6   17.6235\n",
       "7   12.6700\n",
       "8    6.5772\n",
       "9   14.2628\n",
       "10   5.6400\n",
       "11  11.3680\n",
       "12   5.2224\n",
       "13   7.4052\n",
       "14   3.8240\n",
       "15   6.5500\n",
       "16  13.7592\n",
       "17  15.6330\n",
       "18  14.9380\n",
       "19   6.3840\n",
       "20   2.0832\n",
       "21   5.2185\n",
       "22   4.1472\n",
       "23   7.1680\n",
       "24   8.1454\n",
       "25   8.5680\n",
       "26   9.6000\n",
       "27   2.1120\n",
       "28   7.2800\n",
       "29  12.4440\n",
       "30  15.5227\n",
       "31   6.9153\n",
       "32   6.4752\n",
       "33   8.5376\n",
       "34  12.8002\n",
       "35   5.7078\n",
       "36  14.9544\n",
       "37  12.3808\n",
       "38  10.0300\n",
       "39   5.8045\n",
       "40   9.3960"
      ]
     },
     "execution_count": 10,
     "metadata": {},
     "output_type": "execute_result"
    }
   ],
   "source": [
    "# col=['Species','Weight', 'Length1', 'Length2', 'Length3', 'Width']\n",
    "d=tdf.copy()\n",
    "d"
   ]
  },
  {
   "cell_type": "code",
   "execution_count": 11,
   "id": "906d4e73",
   "metadata": {},
   "outputs": [],
   "source": [
    "project=reg.predict(d)\n"
   ]
  },
  {
   "cell_type": "code",
   "execution_count": 12,
   "id": "25ad9ff2",
   "metadata": {},
   "outputs": [
    {
     "data": {
      "text/plain": [
       "array([ 6.94299802e+02,  5.64060744e+02,  2.05150983e+02,  2.28314600e+02,\n",
       "        3.35291192e+02, -7.18548805e-01,  8.46038519e+02,  5.74011544e+02,\n",
       "        2.39418639e+02,  6.61481932e+02,  1.87951256e+02,  5.02510762e+02,\n",
       "        1.65018286e+02,  2.84889182e+02,  8.82235910e+01,  2.37924920e+02,\n",
       "        6.33826176e+02,  7.36727993e+02,  6.98561293e+02,  2.28808845e+02,\n",
       "       -7.37438194e+00,  1.64804113e+02,  1.05972479e+02,  2.71863079e+02,\n",
       "        3.25538090e+02,  3.48745640e+02,  4.05419071e+02, -5.79279783e+00,\n",
       "        2.78013684e+02,  5.61600502e+02,  7.30670745e+02,  2.57985777e+02,\n",
       "        2.33817195e+02,  3.47076190e+02,  5.81161622e+02,  1.91674568e+02,\n",
       "        6.99461917e+02,  5.58129803e+02,  4.29033000e+02,  1.96984957e+02,\n",
       "        3.94216184e+02])"
      ]
     },
     "execution_count": 12,
     "metadata": {},
     "output_type": "execute_result"
    }
   ],
   "source": [
    "project"
   ]
  },
  {
   "cell_type": "code",
   "execution_count": 13,
   "id": "7806b860",
   "metadata": {},
   "outputs": [
    {
     "data": {
      "text/html": [
       "<div>\n",
       "<style scoped>\n",
       "    .dataframe tbody tr th:only-of-type {\n",
       "        vertical-align: middle;\n",
       "    }\n",
       "\n",
       "    .dataframe tbody tr th {\n",
       "        vertical-align: top;\n",
       "    }\n",
       "\n",
       "    .dataframe thead th {\n",
       "        text-align: right;\n",
       "    }\n",
       "</style>\n",
       "<table border=\"1\" class=\"dataframe\">\n",
       "  <thead>\n",
       "    <tr style=\"text-align: right;\">\n",
       "      <th></th>\n",
       "      <th>Height</th>\n",
       "      <th>Weight</th>\n",
       "    </tr>\n",
       "  </thead>\n",
       "  <tbody>\n",
       "    <tr>\n",
       "      <th>0</th>\n",
       "      <td>14.8604</td>\n",
       "      <td>694.299802</td>\n",
       "    </tr>\n",
       "    <tr>\n",
       "      <th>1</th>\n",
       "      <td>12.4888</td>\n",
       "      <td>564.060744</td>\n",
       "    </tr>\n",
       "    <tr>\n",
       "      <th>2</th>\n",
       "      <td>5.9532</td>\n",
       "      <td>205.150983</td>\n",
       "    </tr>\n",
       "    <tr>\n",
       "      <th>3</th>\n",
       "      <td>6.3750</td>\n",
       "      <td>228.314600</td>\n",
       "    </tr>\n",
       "    <tr>\n",
       "      <th>4</th>\n",
       "      <td>8.3230</td>\n",
       "      <td>335.291192</td>\n",
       "    </tr>\n",
       "    <tr>\n",
       "      <th>5</th>\n",
       "      <td>2.2044</td>\n",
       "      <td>-0.718549</td>\n",
       "    </tr>\n",
       "    <tr>\n",
       "      <th>6</th>\n",
       "      <td>17.6235</td>\n",
       "      <td>846.038519</td>\n",
       "    </tr>\n",
       "    <tr>\n",
       "      <th>7</th>\n",
       "      <td>12.6700</td>\n",
       "      <td>574.011544</td>\n",
       "    </tr>\n",
       "    <tr>\n",
       "      <th>8</th>\n",
       "      <td>6.5772</td>\n",
       "      <td>239.418639</td>\n",
       "    </tr>\n",
       "    <tr>\n",
       "      <th>9</th>\n",
       "      <td>14.2628</td>\n",
       "      <td>661.481932</td>\n",
       "    </tr>\n",
       "    <tr>\n",
       "      <th>10</th>\n",
       "      <td>5.6400</td>\n",
       "      <td>187.951256</td>\n",
       "    </tr>\n",
       "    <tr>\n",
       "      <th>11</th>\n",
       "      <td>11.3680</td>\n",
       "      <td>502.510762</td>\n",
       "    </tr>\n",
       "    <tr>\n",
       "      <th>12</th>\n",
       "      <td>5.2224</td>\n",
       "      <td>165.018286</td>\n",
       "    </tr>\n",
       "    <tr>\n",
       "      <th>13</th>\n",
       "      <td>7.4052</td>\n",
       "      <td>284.889182</td>\n",
       "    </tr>\n",
       "    <tr>\n",
       "      <th>14</th>\n",
       "      <td>3.8240</td>\n",
       "      <td>88.223591</td>\n",
       "    </tr>\n",
       "    <tr>\n",
       "      <th>15</th>\n",
       "      <td>6.5500</td>\n",
       "      <td>237.924920</td>\n",
       "    </tr>\n",
       "    <tr>\n",
       "      <th>16</th>\n",
       "      <td>13.7592</td>\n",
       "      <td>633.826176</td>\n",
       "    </tr>\n",
       "    <tr>\n",
       "      <th>17</th>\n",
       "      <td>15.6330</td>\n",
       "      <td>736.727993</td>\n",
       "    </tr>\n",
       "    <tr>\n",
       "      <th>18</th>\n",
       "      <td>14.9380</td>\n",
       "      <td>698.561293</td>\n",
       "    </tr>\n",
       "    <tr>\n",
       "      <th>19</th>\n",
       "      <td>6.3840</td>\n",
       "      <td>228.808845</td>\n",
       "    </tr>\n",
       "    <tr>\n",
       "      <th>20</th>\n",
       "      <td>2.0832</td>\n",
       "      <td>-7.374382</td>\n",
       "    </tr>\n",
       "    <tr>\n",
       "      <th>21</th>\n",
       "      <td>5.2185</td>\n",
       "      <td>164.804113</td>\n",
       "    </tr>\n",
       "    <tr>\n",
       "      <th>22</th>\n",
       "      <td>4.1472</td>\n",
       "      <td>105.972479</td>\n",
       "    </tr>\n",
       "    <tr>\n",
       "      <th>23</th>\n",
       "      <td>7.1680</td>\n",
       "      <td>271.863079</td>\n",
       "    </tr>\n",
       "    <tr>\n",
       "      <th>24</th>\n",
       "      <td>8.1454</td>\n",
       "      <td>325.538090</td>\n",
       "    </tr>\n",
       "    <tr>\n",
       "      <th>25</th>\n",
       "      <td>8.5680</td>\n",
       "      <td>348.745640</td>\n",
       "    </tr>\n",
       "    <tr>\n",
       "      <th>26</th>\n",
       "      <td>9.6000</td>\n",
       "      <td>405.419071</td>\n",
       "    </tr>\n",
       "    <tr>\n",
       "      <th>27</th>\n",
       "      <td>2.1120</td>\n",
       "      <td>-5.792798</td>\n",
       "    </tr>\n",
       "    <tr>\n",
       "      <th>28</th>\n",
       "      <td>7.2800</td>\n",
       "      <td>278.013684</td>\n",
       "    </tr>\n",
       "    <tr>\n",
       "      <th>29</th>\n",
       "      <td>12.4440</td>\n",
       "      <td>561.600502</td>\n",
       "    </tr>\n",
       "    <tr>\n",
       "      <th>30</th>\n",
       "      <td>15.5227</td>\n",
       "      <td>730.670745</td>\n",
       "    </tr>\n",
       "    <tr>\n",
       "      <th>31</th>\n",
       "      <td>6.9153</td>\n",
       "      <td>257.985777</td>\n",
       "    </tr>\n",
       "    <tr>\n",
       "      <th>32</th>\n",
       "      <td>6.4752</td>\n",
       "      <td>233.817195</td>\n",
       "    </tr>\n",
       "    <tr>\n",
       "      <th>33</th>\n",
       "      <td>8.5376</td>\n",
       "      <td>347.076190</td>\n",
       "    </tr>\n",
       "    <tr>\n",
       "      <th>34</th>\n",
       "      <td>12.8002</td>\n",
       "      <td>581.161622</td>\n",
       "    </tr>\n",
       "    <tr>\n",
       "      <th>35</th>\n",
       "      <td>5.7078</td>\n",
       "      <td>191.674568</td>\n",
       "    </tr>\n",
       "    <tr>\n",
       "      <th>36</th>\n",
       "      <td>14.9544</td>\n",
       "      <td>699.461917</td>\n",
       "    </tr>\n",
       "    <tr>\n",
       "      <th>37</th>\n",
       "      <td>12.3808</td>\n",
       "      <td>558.129803</td>\n",
       "    </tr>\n",
       "    <tr>\n",
       "      <th>38</th>\n",
       "      <td>10.0300</td>\n",
       "      <td>429.033000</td>\n",
       "    </tr>\n",
       "    <tr>\n",
       "      <th>39</th>\n",
       "      <td>5.8045</td>\n",
       "      <td>196.984957</td>\n",
       "    </tr>\n",
       "    <tr>\n",
       "      <th>40</th>\n",
       "      <td>9.3960</td>\n",
       "      <td>394.216184</td>\n",
       "    </tr>\n",
       "  </tbody>\n",
       "</table>\n",
       "</div>"
      ],
      "text/plain": [
       "     Height      Weight\n",
       "0   14.8604  694.299802\n",
       "1   12.4888  564.060744\n",
       "2    5.9532  205.150983\n",
       "3    6.3750  228.314600\n",
       "4    8.3230  335.291192\n",
       "5    2.2044   -0.718549\n",
       "6   17.6235  846.038519\n",
       "7   12.6700  574.011544\n",
       "8    6.5772  239.418639\n",
       "9   14.2628  661.481932\n",
       "10   5.6400  187.951256\n",
       "11  11.3680  502.510762\n",
       "12   5.2224  165.018286\n",
       "13   7.4052  284.889182\n",
       "14   3.8240   88.223591\n",
       "15   6.5500  237.924920\n",
       "16  13.7592  633.826176\n",
       "17  15.6330  736.727993\n",
       "18  14.9380  698.561293\n",
       "19   6.3840  228.808845\n",
       "20   2.0832   -7.374382\n",
       "21   5.2185  164.804113\n",
       "22   4.1472  105.972479\n",
       "23   7.1680  271.863079\n",
       "24   8.1454  325.538090\n",
       "25   8.5680  348.745640\n",
       "26   9.6000  405.419071\n",
       "27   2.1120   -5.792798\n",
       "28   7.2800  278.013684\n",
       "29  12.4440  561.600502\n",
       "30  15.5227  730.670745\n",
       "31   6.9153  257.985777\n",
       "32   6.4752  233.817195\n",
       "33   8.5376  347.076190\n",
       "34  12.8002  581.161622\n",
       "35   5.7078  191.674568\n",
       "36  14.9544  699.461917\n",
       "37  12.3808  558.129803\n",
       "38  10.0300  429.033000\n",
       "39   5.8045  196.984957\n",
       "40   9.3960  394.216184"
      ]
     },
     "execution_count": 13,
     "metadata": {},
     "output_type": "execute_result"
    }
   ],
   "source": [
    "d['Weight']=project\n",
    "d"
   ]
  },
  {
   "cell_type": "code",
   "execution_count": 14,
   "id": "db6995af",
   "metadata": {
    "scrolled": true
   },
   "outputs": [
    {
     "data": {
      "text/plain": [
       "[<matplotlib.lines.Line2D at 0x1cc2457cf70>]"
      ]
     },
     "execution_count": 14,
     "metadata": {},
     "output_type": "execute_result"
    },
    {
     "data": {
      "image/png": "[encoded data removed]",
      "text/plain": [
       "<Figure size 432x288 with 1 Axes>"
      ]
     },
     "metadata": {
      "needs_background": "light"
     },
     "output_type": "display_data"
    }
   ],
   "source": [
    "%matplotlib inline \n",
    "plt.title(\"5 Different Fishes\")\n",
    "plt.xlabel('height')\n",
    "plt.ylabel('weight')\n",
    "plt.scatter(fdf.Height, fdf.Weight, color='green', marker='*')\n",
    "plt.plot(d.Height, d['Weight'])"
   ]
  },
  {
   "cell_type": "markdown",
   "id": "d745a298",
   "metadata": {},
   "source": [
    "**Linear Regression from scratch**"
   ]
  },
  {
   "cell_type": "code",
   "execution_count": 23,
   "id": "09d76616",
   "metadata": {},
   "outputs": [],
   "source": [
    "import math\n",
    "def gradient_des(x,y, fdf):\n",
    "    c=[]\n",
    "    mx=[]\n",
    "    yhatg=[]\n",
    "    m=b=0\n",
    "    iteration=10000\n",
    "    n=len(x)\n",
    "    alpha=0.0008 #learning rate\n",
    "    costp=0\n",
    "    plt.title(\"5 Different Fishes\")\n",
    "    plt.xlabel('height')\n",
    "    plt.ylabel('weight')\n",
    "    plt.scatter(fdf.Height, fdf.Weight, color='green', marker='*')\n",
    "    for i in range(iteration):\n",
    "        yhat=m*x+b\n",
    "        costf=(1/n)*sum(val*val for val in (y-yhat))\n",
    "        dm=-(1/2)*sum(x*(y-yhat)) #partial derviative m \n",
    "        db=-(1/2)*sum(y-yhat) #partial derviative b \n",
    "        m=m-alpha*dm\n",
    "        b=b-alpha*db\n",
    "        c.append(costf)\n",
    "        mx.append(m)\n",
    "        yhatg.append(yhat)\n",
    "        plt.plot(x,yhat,color='blue')\n",
    "#         if math.isclose(costf, costp, rel_tol=1e-20):\n",
    "#             break\n",
    "        costp=costf\n",
    "    return m,b,mx,c,yhatg\n",
    "        \n",
    "    "
   ]
  },
  {
   "cell_type": "code",
   "execution_count": 16,
   "id": "244984e1",
   "metadata": {},
   "outputs": [
    {
     "name": "stdout",
     "output_type": "stream",
     "text": [
      "(38, 1)\n"
     ]
    }
   ],
   "source": [
    "df=pd.read_csv('sample.csv')\n",
    "\n",
    "X=df[['Height']]\n",
    "Y=df[['Weight']]\n",
    "print(X.shape)\n"
   ]
  },
  {
   "cell_type": "code",
   "execution_count": 17,
   "id": "34b240a0",
   "metadata": {},
   "outputs": [
    {
     "name": "stdout",
     "output_type": "stream",
     "text": [
      "   Height\n",
      "0  8.9262\n",
      "1  5.2983\n",
      "2  6.1146\n",
      "   Weight\n",
      "0   950.0\n",
      "1    69.0\n",
      "2   120.0\n"
     ]
    }
   ],
   "source": [
    "print(X.head(3))\n",
    "print(Y.head(3))"
   ]
  },
  {
   "cell_type": "code",
   "execution_count": 24,
   "id": "10f7738e",
   "metadata": {
    "scrolled": true
   },
   "outputs": [
    {
     "data": {
      "image/png": "[encoded data removed]",
      "text/plain": [
       "<Figure size 432x288 with 1 Axes>"
      ]
     },
     "metadata": {
      "needs_background": "light"
     },
     "output_type": "display_data"
    }
   ],
   "source": [
    "x = np.array(X)\n",
    "y = np.array(Y)\n",
    "m, a, mx, c, yhatg, =gradient_des(x,y,fdf)"
   ]
  },
  {
   "cell_type": "code",
   "execution_count": 25,
   "id": "03edd73a",
   "metadata": {},
   "outputs": [
    {
     "data": {
      "text/plain": [
       "Text(0, 0.5, 'cost')"
      ]
     },
     "execution_count": 25,
     "metadata": {},
     "output_type": "execute_result"
    },
    {
     "data": {
      "image/png": "[encoded data removed]",
      "text/plain": [
       "<Figure size 432x288 with 1 Axes>"
      ]
     },
     "metadata": {
      "needs_background": "light"
     },
     "output_type": "display_data"
    }
   ],
   "source": [
    "\n",
    "fig= plt.figure()\n",
    "axes=fig.add_subplot(111)\n",
    "axes.plot(mx,c)\n",
    "plt.title(\"cost function\")\n",
    "plt.xlabel('weight')\n",
    "plt.ylabel('cost')\n"
   ]
  },
  {
   "cell_type": "code",
   "execution_count": 20,
   "id": "83be09a9",
   "metadata": {},
   "outputs": [
    {
     "name": "stdout",
     "output_type": "stream",
     "text": [
      "coefficient [nan]\n",
      "intercept [nan]\n"
     ]
    }
   ],
   "source": [
    "print(\"coefficient {}\".format(m))\n",
    "print(\"intercept {}\".format(a))"
   ]
  }
 ],
 "metadata": {
  "kernelspec": {
   "display_name": "Python 3",
   "language": "python",
   "name": "python3"
  },
  "language_info": {
   "codemirror_mode": {
    "name": "ipython",
    "version": 3
   },
   "file_extension": ".py",
   "mimetype": "text/x-python",
   "name": "python",
   "nbconvert_exporter": "python",
   "pygments_lexer": "ipython3",
   "version": "3.9.4"
  }
 },
 "nbformat": 4,
 "nbformat_minor": 5
}
